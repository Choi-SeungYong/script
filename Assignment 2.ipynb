{
 "cells": [
  {
   "cell_type": "markdown",
   "metadata": {},
   "source": [
    "# Assignment 2"
   ]
  },
  {
   "cell_type": "markdown",
   "metadata": {},
   "source": [
    "# 2015136131 / 컴퓨터공학부 / 최승용"
   ]
  },
  {
   "cell_type": "markdown",
   "metadata": {},
   "source": [
    "## [문제]"
   ]
  },
  {
   "cell_type": "markdown",
   "metadata": {},
   "source": [
    "### 1) 다음 6 개의 Expression에 대해 Evaluation 결과 값을 출력하고, 해당 결과가 나온 이유에 대해 설명하시오.\n",
    "* **1 and 2 and 3 and 4**\n",
    "* **1 or 2 or 3 or 4**\n",
    "* **1 and 2 or 3 and 4**\n",
    "* **(1 and 2) or (3 and 4)**\n",
    "* **1 or 2 and 3 or 4**\n",
    "* **(1 or 2) and (3 or 4)**"
   ]
  },
  {
   "cell_type": "code",
   "execution_count": 2,
   "metadata": {},
   "outputs": [
    {
     "name": "stdout",
     "output_type": "stream",
     "text": [
      "4\n"
     ]
    }
   ],
   "source": [
    "print(1 and 2 and 3 and 4)"
   ]
  },
  {
   "cell_type": "markdown",
   "metadata": {},
   "source": [
    "//and연산자는 두 항이 다 참이어야 참을 반환하기 때문에 두 항을 모두 검사해야해서 1 and 2의 경우 2가 반환된다.\n",
    "<ul>따라서 1 and 2 and 3 and 4 의 결과는 4가된다.</ul>"
   ]
  },
  {
   "cell_type": "code",
   "execution_count": 3,
   "metadata": {},
   "outputs": [
    {
     "name": "stdout",
     "output_type": "stream",
     "text": [
      "1\n"
     ]
    }
   ],
   "source": [
    "print(1 or 2 or 3 or 4)"
   ]
  },
  {
   "cell_type": "markdown",
   "metadata": {},
   "source": [
    "//or연산자는 하나라도 참이면 참을 반환하기 때문에 참이 나오면 다음 항은 검사하지 않는다. 그래서 1 or 2의 경우 1이 반환된다.\n",
    "<ul>따라서 1 or 2 or 3 or 4 의 결과는 1이된다.</ul>"
   ]
  },
  {
   "cell_type": "code",
   "execution_count": 4,
   "metadata": {},
   "outputs": [
    {
     "name": "stdout",
     "output_type": "stream",
     "text": [
      "2\n"
     ]
    }
   ],
   "source": [
    "print(1 and 2 or 3 and 4)"
   ]
  },
  {
   "cell_type": "markdown",
   "metadata": {},
   "source": [
    "//and연산자는 or연산자보다 우선순위가 높기 때문에 1 and 2의 결과인 2와 3 and 4의 결과인 4가 or 연산을 통해 2가 출력된다."
   ]
  },
  {
   "cell_type": "code",
   "execution_count": 5,
   "metadata": {
    "scrolled": true
   },
   "outputs": [
    {
     "name": "stdout",
     "output_type": "stream",
     "text": [
      "2\n"
     ]
    }
   ],
   "source": [
    "print((1 and 2) or (3 and 4))"
   ]
  },
  {
   "cell_type": "markdown",
   "metadata": {},
   "source": [
    "//괄호는 and연산자나 or연산자보다 우선순위가 높기 때문에 1 and 2의 결과인 2와 3 and 4의 결과인 4가 or연산을 통해 2가 출력된다."
   ]
  },
  {
   "cell_type": "code",
   "execution_count": 6,
   "metadata": {
    "scrolled": true
   },
   "outputs": [
    {
     "name": "stdout",
     "output_type": "stream",
     "text": [
      "1\n"
     ]
    }
   ],
   "source": [
    "print(1 or 2 and 3 or 4)"
   ]
  },
  {
   "cell_type": "markdown",
   "metadata": {},
   "source": [
    "//and연산자는 or연산자보다 우선순위가 높기 떄문에 2 and 3의 결과로 3이 나오고 1 or 3 or 4 연산을 통해 1이 출력된다."
   ]
  },
  {
   "cell_type": "code",
   "execution_count": 7,
   "metadata": {
    "scrolled": true
   },
   "outputs": [
    {
     "name": "stdout",
     "output_type": "stream",
     "text": [
      "3\n"
     ]
    }
   ],
   "source": [
    "print((1 or 2) and (3 or 4))"
   ]
  },
  {
   "cell_type": "markdown",
   "metadata": {},
   "source": [
    "//괄호는 and연산자나 or연산자보다 우선순위가 높기 때문에 1 or 2의 결과인 1과 3 or 4의 결과인 3이 and연산을 통해 3이 출력된다."
   ]
  },
  {
   "cell_type": "markdown",
   "metadata": {},
   "source": [
    "### 2) 경로에 해당하는 문자열 1개를 입력 받아 그 안에 디렉토리 경로명과 파일명을 분리하여 리스트로 반환하는 함수 div_path(s)를 작성하시오.\n",
    "\n",
    "* **인자로 전달하는 문자열은 경로만 들어간다고 가정한다.**\n",
    "* **각 디렉토리와 파일을 구분하는 문자는 '/'로 가정한다.**\n",
    "* **반환하는 리스트의 첫번째 원소는 디렉토리이고 두번째 원소는 파일명이다.**\n",
    "* **다음과 같은 실행 및 출력 결과가 도출되어야 한다.**\n",
    "  * **div_path('/usr/local/bin/python')**\n",
    "    * **['/usr/local/bin', 'python']**\n",
    "  * **div_path('/home/chulsoo/test.txt')**\n",
    "    * **['/home/chulsoo', 'test.txt']**\n",
    "* **[참고] 리스트(l) 내에 새로운 정수값 (예를 들어 10)을 넣는 방법은 l.append(10) 이다.**"
   ]
  },
  {
   "cell_type": "code",
   "execution_count": 8,
   "metadata": {},
   "outputs": [
    {
     "name": "stdout",
     "output_type": "stream",
     "text": [
      "div_path('/home/chulsoo/test.txt') = ['/home/chulsoo', 'test.txt']\n"
     ]
    }
   ],
   "source": [
    "def div_path(s) :\n",
    "    st = s[::-1]\n",
    "    x= st.index('/')\n",
    "    s=[s[:len(s)-x-1]] + [s[len(s)-x:]]\n",
    "    return s\n",
    "print(\"div_path('/home/chulsoo/test.txt') = \",end=\"\")\n",
    "print(div_path('/home/chulsoo/test.txt'))"
   ]
  },
  {
   "cell_type": "markdown",
   "metadata": {},
   "source": [
    "//인자로 문자열이 들어오기 때문에 슬라이싱을 이용한다.\n",
    "<ul>디렉토리와 파일명을 구분하는 문자는 문자열의 '/'문자중 제일 마지막에 있는 '/'문자이기 때문에</ul>\n",
    "<ul>s[::-1]을 이용해 s를 뒤집은 문자열 st를 만든다.</ul>\n",
    "<ul>s의 마지막 '/'문자는 st의 처음 '/'문자가 되기 때문에</ul>\n",
    "<ul>index함수를 이용해 st의 처음 '/'문자의 인덱스를 반환하여 x에 저장한다.</ul>\n",
    "<ul>len함수를 이용해 s기준으로 뒤에부터 x+1만큼 떨어진 '/'를 찾아내고</ul>\n",
    "<ul>'/'문자 앞 문자열을 슬라이싱하여 디렉토리로, '/'문자 뒷 문자열을 슬라이싱하여 파일명으로 출력한다.</ul>"
   ]
  },
  {
   "cell_type": "markdown",
   "metadata": {},
   "source": [
    "### 3) 두 개의 리스트를 인자로 받아서 그 두 개의 리스트에 대한 '합집합'을 반환하는 함수 list_union(lista, listb)를 작성하시오.\n",
    "\n",
    "* **인자로 전달하는 리스트 2 개에는 정수값만 들어간다고 가정하자.**\n",
    "* **함수 내에서 새로운 리스트를 만들어 그 리스트 내에 인자로 받은 두 리스트의 모든 원소를 넣어 반환한다.**\n",
    "* **반환하는 리스트에는 절대로 중복된 원소가 들어 있으면 안된다 (집합의 조건).**\n",
    "* **반환하는 리스트는 정렬이 되어 있어야 한다.**\n",
    "* **다음과 같은 실행 및 출력 결과가 도출되어야 한다.**\n",
    "  * **list_union([1, 2, 3], [1, 2, 4])**\n",
    "    * **[1, 2, 3, 4]**\n",
    "  * **list_union([-10, -5, 0, -1], [100, 9, 0, 9])**\n",
    "    * **[-10, -5, -1, 0, 9, 100]**\n",
    "  * **list_union([0, 1, 2], [0, 1, 2])**\n",
    "    * **[0, 1, 2]**\n",
    "* **[참고] 리스트(l) 내에 새로운 정수값 (예를 들어 10)을 넣는 방법은 l.append(10) 이다.**\n",
    "* **[참고] 임의의 정수값 (x)이 리스트 (l) 내에 존재하는지 판단하는 방법은 x in l 이다.**"
   ]
  },
  {
   "cell_type": "code",
   "execution_count": 17,
   "metadata": {},
   "outputs": [
    {
     "name": "stdout",
     "output_type": "stream",
     "text": [
      "list_union([1, 2, 3], [1, 2, 4]) = [1, 2, 3, 4]\n",
      "list_union([-10, -5, 0, -1], [100, 9, 0, 9]) = [-10, -5, -1, 0, 9, 100]\n",
      "list_union([0, 1, 2], [0, 1, 2]) = [0, 1, 2]\n"
     ]
    }
   ],
   "source": [
    "def list_union(lista, listb):\n",
    "    for x in listb:\n",
    "        if(not(x in lista)):\n",
    "            lista.append(x)\n",
    "    lista.sort()\n",
    "    return lista\n",
    "print(\"list_union([1, 2, 3], [1, 2, 4]) = \", end=\"\")\n",
    "print(list_union([1, 2, 3], [1, 2, 4]))\n",
    "print(\"list_union([-10, -5, 0, -1], [100, 9, 0, 9]) = \", end=\"\")\n",
    "print(list_union([-10, -5, 0, -1], [100, 9, 0, 9]))\n",
    "print(\"list_union([0, 1, 2], [0, 1, 2]) = \", end=\"\")\n",
    "print(list_union([0, 1, 2], [0, 1, 2]))"
   ]
  },
  {
   "cell_type": "markdown",
   "metadata": {},
   "source": [
    "//인자로 리스트가 들어오기 때문에 append()와 sort()를 이용한다.\n",
    "<ul>listb의 요소 하나를 뽑아 lista에 똑같은 요소가 존재하는지 확인한다.</ul>\n",
    "<ul>만약 lista에 해당 요소가 없다면 append함수를 이용해 lista에 추가한다.</ul>\n",
    "<ul>listb의 모든 요소를 확인하고 sort함수를 이용해 lista를 정렬한다. 이후 출력한다.</ul>"
   ]
  },
  {
   "cell_type": "markdown",
   "metadata": {},
   "source": [
    "### 4) [ACM-ICPC 문제 10809번]\n",
    "* **알파벳 찾기**\n",
    "<ul> https://www.acmicpc.net/problem/10809 </ul>"
   ]
  },
  {
   "cell_type": "markdown",
   "metadata": {},
   "source": [
    "**알파벳 소문자로만 이루어진 단어 S가 주어진다. 각각의 알파벳에 대해서, 단어에 포함되어 있는 경우에는 처음 등장하는 위치를,**\n",
    "\n",
    "**포함되어 있지 않은 경우에는 -1을 출력하는 프로그램을 작성하시오.**"
   ]
  },
  {
   "cell_type": "code",
   "execution_count": 2,
   "metadata": {},
   "outputs": [
    {
     "name": "stdout",
     "output_type": "stream",
     "text": [
      "baekjoon\n",
      "1 0 -1 -1 2 -1 -1 -1 -1 4 3 -1 -1 7 5 -1 -1 -1 -1 -1 -1 -1 -1 -1 -1 -1 "
     ]
    }
   ],
   "source": [
    "l = []\n",
    "s = input()\n",
    "for x in range(97,123):\n",
    "    l.extend(chr(x))\n",
    "for x in l:\n",
    "    print(s.find(x),end=\" \")"
   ]
  },
  {
   "cell_type": "markdown",
   "metadata": {},
   "source": [
    "![]( https://github.com/Choi-SeungYong/script/blob/master/%EC%95%8C%ED%8C%8C%EB%B2%B3%20%EC%B0%BE%EA%B8%B0.png?raw=true )"
   ]
  },
  {
   "cell_type": "markdown",
   "metadata": {},
   "source": [
    "//빈 리스트 l을 선언하고 소문자 a~z를 의미하는 아스키코드 97~123을 char형으로 형변환하여 리스트에 extend한다.\n",
    "<ul>l의 요소와 입력받은 s를 find함수를 사용하여 비교한다. l의 요소와 일치한다면 해당 인덱스를 반환하고 일치하지 않으면-1을 출력한다. </ul>"
   ]
  },
  {
   "cell_type": "markdown",
   "metadata": {},
   "source": [
    "### 5) [ACM-ICPC 문제 2675번]\n",
    "* **문자열 반복**\n",
    "<ul> https://www.acmicpc.net/problem/2675 </ul>"
   ]
  },
  {
   "cell_type": "markdown",
   "metadata": {},
   "source": [
    "**문자열 S를 입력받은 후에, 각 문자를 R번 반복해 새 문자열 P를 만든 후 출력하는 프로그램을 작성하시오.**\n",
    "\n",
    "**즉, 첫 번째 문자를 R번 반복하고, 두 번째 문자를 R번 반복하는 식으로 P를 만들면 된다. S에는 QR Code \"alphanumeric\" 문자만 들어있다.**\n",
    "\n",
    "**QR Code \"alphanumeric\" 문자는 0123456789ABCDEFGHIJKLMNOPQRSTUVWXYZ\\$%*+-./: 이다.**"
   ]
  },
  {
   "cell_type": "code",
   "execution_count": 3,
   "metadata": {},
   "outputs": [
    {
     "name": "stdout",
     "output_type": "stream",
     "text": [
      "2\n",
      "3 ABC\n",
      "AAABBBCCC\n",
      "5 /HTP\n",
      "/////HHHHHTTTTTPPPPP\n"
     ]
    }
   ],
   "source": [
    "nTestcase = input()\n",
    "for i in range(int(nTestcase)):\n",
    "    r, s = input().split()\n",
    "    \n",
    "    for j in range(len(s)):\n",
    "        for k in range(int(r)):\n",
    "            print(s[j],end=\"\")\n",
    "    print()"
   ]
  },
  {
   "cell_type": "markdown",
   "metadata": {},
   "source": [
    "![]( https://github.com/Choi-SeungYong/script/blob/master/%EB%AC%B8%EC%9E%90%EC%97%B4%20%EB%B0%98%EB%B3%B5.png?raw=true )"
   ]
  },
  {
   "cell_type": "markdown",
   "metadata": {},
   "source": [
    "//nTestcase를 입력받고 input().split()를 이용하여 r과 s를 한번에 입력받는다.\n",
    "<ul>이중 for문을 이용하여 문자열 s를 인덱스마다 r번씩 반복하여 출력한다.</ul>"
   ]
  },
  {
   "cell_type": "markdown",
   "metadata": {},
   "source": [
    "### 6) Incremental Project 문제\n",
    "**1) 웹 URL로 지정된 웹페이지를 문자열로 가져와 1) 모든 HTML 태그를 제외한 순수 텍스트 문자열만을 걸러내고,**\n",
    "\n",
    "**2) 그 순수 텍스트 문자열 안에 존재하는 단어가 총 몇개인지 출력하는 프로그램을 작성하시오.**\n",
    "\n",
    "* **HTML 태그는 다음 조건을 가지는 것이다.**\n",
    "\n",
    "  * **< 로 시작하여 >로 끝난다.**\n",
    "  * **예를 들어, 아래와 같은 HTML 내용 내에 한 줄이 있다고 가정하자.**\n",
    "    * **<label for=\"keep_signed\"\\>로그인 유지</label\\>**\n",
    "  * **위 소스에서 HTML 태그를 제외한 순수 텍스트 문자열은 아래와 같다.**\n",
    "    * **로그인 유지**\n",
    "  * **한편, 아래와 같은 HTML 한 줄이 있다고 가정하자.**\n",
    "    * **<link rel=\"stylesheet\" href=\"/common/css/xe.min.css?20150910092654\" /\\>**\n",
    "  * **위 한 줄은 HTML 태그로만 구성된 것이며 걸러낼 수 있는 순수 텍스 문자열은 존재하지 않는다.**\n",
    "* **단어를 나누는 기준은 오로지 공백문자 (whitespace)이다.**\n",
    "\n",
    "  * **즉, 위 순수 텍스트 문자열인 \"로그인 유지\"에서 분리한 단어는 \"로그인\"과 \"유지\"이다.**\n",
    "* **중복을 고려하지 않고 무조건 모든 단어의 개수를 세어서 출력한다.**\n",
    "* **본 숙제를 위하여 HTML 파싱과 관련된 모듈 (예. BeautifulSoup) 사용 금지**\n",
    "* **다음은 URL로 지정된 웹페이지를 특정 문자열로 가져오는 코드이다.**\n",
    "  * **즉, 숙제 코드는 아래 코드로 부터 시작해야 한다.**\n",
    "  * **아래 코드 수행시 requests 모듈이 존재하지 않는 에러가 발생하면 command 창에서 다음 코드 입력하여 requests 모듈 설치후 아래 코드 수행**\n",
    "        > pip install requests"
   ]
  },
  {
   "cell_type": "code",
   "execution_count": 4,
   "metadata": {},
   "outputs": [
    {
     "name": "stdout",
     "output_type": "stream",
     "text": [
      "502\n"
     ]
    }
   ],
   "source": [
    "import requests\n",
    "req = requests.get('http://cse.koreatech.ac.kr')\n",
    "source = req.text\n",
    "while(not source.find('<') == -1):\n",
    "    Open_Index = source.find('<')\n",
    "    Close_Index = source.find('>')\n",
    "    while(Close_Index < Open_Index):\n",
    "        Close_Index = source.find('>', Close_Index+1)\n",
    "    source = source.replace(source[Open_Index : Close_Index+1], \"\")\n",
    "print(len(source.split()))"
   ]
  },
  {
   "cell_type": "markdown",
   "metadata": {},
   "source": [
    "//requests와 get함수를 이용하여 http://cse.koreatech.ac.kr 의 데이터를 읽어온다.\n",
    "<ul>여는 꺽새괄호의 인덱스를 find함수를 통해 찾은 후 Open_Index에 저장한다.</ul>\n",
    "<ul>닫는 꺽새괄호의 인덱스를 find함수를 통해 찾은 후 Close_Index에 저장한다.</ul>\n",
    "<ul>만약 닫는 꺽새괄호가 여는 꺽새괄호보다 먼저 나오는 경우, 즉 Open_Index가 Close_Index보다 큰 경우</ul>\n",
    "<ul>닫는 꺽새괄호는 꺽새괄호를 닫아주는 역할이 아니기 때문에 닫는 꺽새괄호로 인식하지 않는다.</ul>\n",
    "<ul>때문에 find함수를 통해 다음 닫는 꺽새괄호를 찾아주고 해당 인덱스를 Close_Index에 다시 저장한다.</ul>\n",
    "<ul>정상적으로 꺽새괄호가 열고 닫힌경우 해당 부분을 슬라이싱와 replace함수를 통해 지우고 source를 재정의한다.</ul>\n",
    "<ul>더이상 여는 꺽새괄호가 나오지 않을 때 까지 반복한 후 split과 len함수를 이용해 공백을 지우고 리스트의 요소 개수(단어의 개수)를 반환한다.</ul>"
   ]
  },
  {
   "cell_type": "markdown",
   "metadata": {},
   "source": [
    "#### 소감"
   ]
  },
  {
   "cell_type": "markdown",
   "metadata": {},
   "source": [
    "<ul>그간 강의를 잘 따라가고 있다고 생각했는데 실제 과제를 해결하다보니 문자열과 리스트에 대한 이해도가 많이 부족하다고 느꼈다.</ul>\n",
    "<ul>자료형도 많이 헷갈렸고 자료형에 따라 같은 작업을 허더라도 자료형에 따라 함수가 다른데 맞는 함수를 찾는데도 어려움이 많았다.</ul>\n",
    "<ul>그래도 과제를 해결해 나가면서 발전하는 스스로를 볼 수 있어서 신기하기도 했고 재미있었다.</ul>\n",
    "<ul>무엇보다도 이번 과제는 파이썬이라는 언어와 친해질 수 있는 기회였던 것 같아 좋았다.</ul>\n",
    "<ul>파이썬은 C나 자바와는 또 다른 매력이 있는 언어인 것 같다. 앞으로 파이썬을 이용할 일이 많을 것 같다.</ul>"
   ]
  }
 ],
 "metadata": {
  "kernelspec": {
   "display_name": "Python 3",
   "language": "python",
   "name": "python3"
  },
  "language_info": {
   "codemirror_mode": {
    "name": "ipython",
    "version": 3
   },
   "file_extension": ".py",
   "mimetype": "text/x-python",
   "name": "python",
   "nbconvert_exporter": "python",
   "pygments_lexer": "ipython3",
   "version": "3.6.5"
  }
 },
 "nbformat": 4,
 "nbformat_minor": 2
}
