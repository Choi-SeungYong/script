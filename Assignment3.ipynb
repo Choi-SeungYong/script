{
 "cells": [
  {
   "cell_type": "markdown",
   "metadata": {},
   "source": [
    "# Assignment 3"
   ]
  },
  {
   "cell_type": "markdown",
   "metadata": {},
   "source": [
    "# 2015136131 / 컴퓨터공학부 / 최승용"
   ]
  },
  {
   "cell_type": "markdown",
   "metadata": {},
   "source": [
    "## [문제]"
   ]
  },
  {
   "cell_type": "markdown",
   "metadata": {},
   "source": [
    "### 1) L=[1, 2, 3, 4, 5]일 때 다음 각 문장을 수행한 후의 결과를 보고 납득할 만한 이유를 설명하시오."
   ]
  },
  {
   "cell_type": "code",
   "execution_count": 1,
   "metadata": {},
   "outputs": [
    {
     "name": "stdout",
     "output_type": "stream",
     "text": [
      "[1, 100, 4, 5]\n"
     ]
    }
   ],
   "source": [
    "L=[1, 2, 3, 4, 5]\n",
    "\n",
    "L[1:3] = [100]\n",
    "\n",
    "print(L)"
   ]
  },
  {
   "cell_type": "markdown",
   "metadata": {},
   "source": [
    "//리스트 L을 슬라이싱하여 1,2번 인덱스(2, 3)부분에 리스트의 요소 100을 넣는다."
   ]
  },
  {
   "cell_type": "code",
   "execution_count": 2,
   "metadata": {},
   "outputs": [
    {
     "name": "stdout",
     "output_type": "stream",
     "text": [
      "[1, 100, 4, 5]\n"
     ]
    }
   ],
   "source": [
    "L=[1, 2, 3, 4, 5]\n",
    "\n",
    "L[1:3] = [(100)]\n",
    "\n",
    "print(L)"
   ]
  },
  {
   "cell_type": "markdown",
   "metadata": {},
   "source": [
    "//리스트 L을 슬라이싱하여 1,2번인덱스(2, 3)부분에 리스트의 요소 (100)을 넣는다.\n",
    "\n",
    "이 때 (100)은 숫자 100으로 들어간다."
   ]
  },
  {
   "cell_type": "code",
   "execution_count": 3,
   "metadata": {},
   "outputs": [
    {
     "ename": "TypeError",
     "evalue": "can only assign an iterable",
     "output_type": "error",
     "traceback": [
      "\u001b[1;31m---------------------------------------------------------------------------\u001b[0m",
      "\u001b[1;31mTypeError\u001b[0m                                 Traceback (most recent call last)",
      "\u001b[1;32m<ipython-input-3-0ca51cfeb461>\u001b[0m in \u001b[0;36m<module>\u001b[1;34m()\u001b[0m\n\u001b[0;32m      1\u001b[0m \u001b[0mL\u001b[0m\u001b[1;33m=\u001b[0m\u001b[1;33m[\u001b[0m\u001b[1;36m1\u001b[0m\u001b[1;33m,\u001b[0m \u001b[1;36m2\u001b[0m\u001b[1;33m,\u001b[0m \u001b[1;36m3\u001b[0m\u001b[1;33m,\u001b[0m \u001b[1;36m4\u001b[0m\u001b[1;33m,\u001b[0m \u001b[1;36m5\u001b[0m\u001b[1;33m]\u001b[0m\u001b[1;33m\u001b[0m\u001b[0m\n\u001b[0;32m      2\u001b[0m \u001b[1;33m\u001b[0m\u001b[0m\n\u001b[1;32m----> 3\u001b[1;33m \u001b[0mL\u001b[0m\u001b[1;33m[\u001b[0m\u001b[1;36m1\u001b[0m\u001b[1;33m:\u001b[0m\u001b[1;36m3\u001b[0m\u001b[1;33m]\u001b[0m \u001b[1;33m=\u001b[0m \u001b[1;36m100\u001b[0m\u001b[1;33m\u001b[0m\u001b[0m\n\u001b[0m\u001b[0;32m      4\u001b[0m \u001b[1;33m\u001b[0m\u001b[0m\n\u001b[0;32m      5\u001b[0m \u001b[0mprint\u001b[0m\u001b[1;33m(\u001b[0m\u001b[0mL\u001b[0m\u001b[1;33m)\u001b[0m\u001b[1;33m\u001b[0m\u001b[0m\n",
      "\u001b[1;31mTypeError\u001b[0m: can only assign an iterable"
     ]
    }
   ],
   "source": [
    "L=[1, 2, 3, 4, 5]\n",
    "\n",
    "L[1:3] = 100\n",
    "\n",
    "print(L)"
   ]
  },
  {
   "cell_type": "markdown",
   "metadata": {},
   "source": [
    "//하나의 요소값을 수정 한다는 의미가 아니라\n",
    "\n",
    "L[1]에서 L[3]사이의 리스트를 바꾼다는 의미이기 때문에\n",
    "\n",
    "숫자 100이 들어갈 수 없다."
   ]
  },
  {
   "cell_type": "code",
   "execution_count": 4,
   "metadata": {},
   "outputs": [
    {
     "ename": "TypeError",
     "evalue": "can only assign an iterable",
     "output_type": "error",
     "traceback": [
      "\u001b[1;31m---------------------------------------------------------------------------\u001b[0m",
      "\u001b[1;31mTypeError\u001b[0m                                 Traceback (most recent call last)",
      "\u001b[1;32m<ipython-input-4-a5ce0d7d7dd5>\u001b[0m in \u001b[0;36m<module>\u001b[1;34m()\u001b[0m\n\u001b[0;32m      1\u001b[0m \u001b[0mL\u001b[0m\u001b[1;33m=\u001b[0m\u001b[1;33m[\u001b[0m\u001b[1;36m1\u001b[0m\u001b[1;33m,\u001b[0m \u001b[1;36m2\u001b[0m\u001b[1;33m,\u001b[0m \u001b[1;36m3\u001b[0m\u001b[1;33m,\u001b[0m \u001b[1;36m4\u001b[0m\u001b[1;33m,\u001b[0m \u001b[1;36m5\u001b[0m\u001b[1;33m]\u001b[0m\u001b[1;33m\u001b[0m\u001b[0m\n\u001b[0;32m      2\u001b[0m \u001b[1;33m\u001b[0m\u001b[0m\n\u001b[1;32m----> 3\u001b[1;33m \u001b[0mL\u001b[0m\u001b[1;33m[\u001b[0m\u001b[1;36m1\u001b[0m\u001b[1;33m:\u001b[0m\u001b[1;36m3\u001b[0m\u001b[1;33m]\u001b[0m \u001b[1;33m=\u001b[0m \u001b[1;33m(\u001b[0m\u001b[1;36m100\u001b[0m\u001b[1;33m)\u001b[0m\u001b[1;33m\u001b[0m\u001b[0m\n\u001b[0m\u001b[0;32m      4\u001b[0m \u001b[1;33m\u001b[0m\u001b[0m\n\u001b[0;32m      5\u001b[0m \u001b[0mprint\u001b[0m\u001b[1;33m(\u001b[0m\u001b[0mL\u001b[0m\u001b[1;33m)\u001b[0m\u001b[1;33m\u001b[0m\u001b[0m\n",
      "\u001b[1;31mTypeError\u001b[0m: can only assign an iterable"
     ]
    }
   ],
   "source": [
    "L=[1, 2, 3, 4, 5]\n",
    "\n",
    "L[1:3] = (100)\n",
    "\n",
    "print(L)"
   ]
  },
  {
   "cell_type": "markdown",
   "metadata": {},
   "source": [
    "//하나의 요소값을 수정 한다는 의미가 아니라\n",
    "\n",
    "L[1]에서 L[3]사이의 리스트를 바꾼다는 의미이기 때문에\n",
    "\n",
    "숫자 100이 들어갈 수 없다.\n",
    "\n",
    "(100, )이라면 튜플이라 가능하지만 (100)은 숫자 100으로 인식한다."
   ]
  },
  {
   "cell_type": "code",
   "execution_count": 5,
   "metadata": {},
   "outputs": [
    {
     "name": "stdout",
     "output_type": "stream",
     "text": [
      "[1, 100, 101, 102, 4, 5]\n"
     ]
    }
   ],
   "source": [
    "L=[1, 2, 3, 4, 5]\n",
    "\n",
    "L[1:3] = (100, 101, 102)\n",
    "\n",
    "print(L)"
   ]
  },
  {
   "cell_type": "markdown",
   "metadata": {},
   "source": [
    "//L[1]에서 L[3]사이의 리스트가 튜플의 요소 100, 101, 102로 바뀌어서 들어간다."
   ]
  },
  {
   "cell_type": "code",
   "execution_count": 6,
   "metadata": {},
   "outputs": [
    {
     "name": "stdout",
     "output_type": "stream",
     "text": [
      "[1, 100, 101, 102, 4, 5]\n"
     ]
    }
   ],
   "source": [
    "L=[1, 2, 3, 4, 5]\n",
    "\n",
    "L[1:3] = [100, 101, 102]\n",
    "\n",
    "print(L)"
   ]
  },
  {
   "cell_type": "markdown",
   "metadata": {},
   "source": [
    "//L[1]에서 L[3]사이의 리스트가 리스트의 요소 100, 101, 102로 바뀌어서 들어간다."
   ]
  },
  {
   "cell_type": "code",
   "execution_count": 7,
   "metadata": {},
   "outputs": [
    {
     "name": "stdout",
     "output_type": "stream",
     "text": [
      "[1, (100, 101, 102), 4, 5]\n"
     ]
    }
   ],
   "source": [
    "L=[1, 2, 3, 4, 5]\n",
    "\n",
    "L[1:3] = [(100, 101, 102)]\n",
    "\n",
    "print(L)"
   ]
  },
  {
   "cell_type": "markdown",
   "metadata": {},
   "source": [
    "//L[1]에서 L[3]사이의 리스트가 튜플 형태의 리스트의 요소 (100, 101, 102)로 바뀌어서 들어간다."
   ]
  },
  {
   "cell_type": "code",
   "execution_count": 8,
   "metadata": {},
   "outputs": [
    {
     "name": "stdout",
     "output_type": "stream",
     "text": [
      "[1, [100, 101, 102], 4, 5]\n"
     ]
    }
   ],
   "source": [
    "L=[1, 2, 3, 4, 5]\n",
    "\n",
    "L[1:3] = [[100, 101, 102]]\n",
    "\n",
    "print(L)"
   ]
  },
  {
   "cell_type": "markdown",
   "metadata": {},
   "source": [
    "//L[1]에서 L[3]사이의 리스트가 리스트 형태의 리스트 요소[100, 101, 102]로 바뀌어서 들어간다."
   ]
  },
  {
   "cell_type": "markdown",
   "metadata": {},
   "source": [
    "### 2) 문자열 S = 'Hello World and Python'에 대해 다음 요구사항에 대한 Python 코드를 제시하시오.\n",
    "\n",
    "**1) 단어의 순서가 역순으로 되어진 문자열 ('Python and World Hello')을 만들고**\n",
    "\n",
    "**2) 1)의 결과 문자열에 대해 메소드 split과 join을 이용하여 공백을 모두 없엔 문자열 'PythonandWorldHello'을 만드시오.**"
   ]
  },
  {
   "cell_type": "code",
   "execution_count": 9,
   "metadata": {},
   "outputs": [
    {
     "name": "stdout",
     "output_type": "stream",
     "text": [
      "Python and World Hello\n"
     ]
    }
   ],
   "source": [
    "S = 'Hello World and Python'\n",
    "\n",
    "S = S[16:23] + \" \" + S[12:15] + \" \" + S[6:11] + \" \" + S[0:5]\n",
    "\n",
    "print(S)"
   ]
  },
  {
   "cell_type": "markdown",
   "metadata": {},
   "source": [
    "//Python 이라는 단어, and 라는 단어, Wolrd라는 단어, Hello 라는 단어를 각각\n",
    "\n",
    "S[16:23], S[12:15], S[6:11], S[0:5] 로 슬라이싱하고 공백을 추가해주며 더해\n",
    "\n",
    "단어의 순서가 역순으로 되어진 새로운 문자열 S로 재정의하였다."
   ]
  },
  {
   "cell_type": "code",
   "execution_count": 10,
   "metadata": {},
   "outputs": [
    {
     "name": "stdout",
     "output_type": "stream",
     "text": [
      "PythonandWorldHello\n"
     ]
    }
   ],
   "source": [
    "S = S.split()\n",
    "S = \"\".join(S)\n",
    "\n",
    "print(S)"
   ]
  },
  {
   "cell_type": "markdown",
   "metadata": {},
   "source": [
    "//split()을 이용하여 공백을 기준으로 문자열을 나눠서 생긴 ['PythonandWorldHello']라는 리스트를\n",
    "\n",
    "아무것도 삽입하지 않는 \"\".join()을 이용해 문자열로 다시 바꿔준다."
   ]
  },
  {
   "cell_type": "markdown",
   "metadata": {},
   "source": [
    "### 3) 다음 코드를 보고 물음에 답하시오.\n",
    "\n",
    "**a = [1, 2, 3]**\n",
    "\n",
    "**b = a * 3**\n",
    "\n",
    "**c = [a] * 3**\n",
    "\n",
    "**print(b)**\n",
    "\n",
    "**print(c)**\n",
    "\n",
    "**1) 위 코드를 수행한 이후 다음 코드를 수행한 후 b와 c의 내용을 확인하시오.**\n",
    "\n",
    "**a[0]=0**\n",
    "\n",
    "**2) b와 c 객체의 차이는 무엇인가?**"
   ]
  },
  {
   "cell_type": "code",
   "execution_count": 11,
   "metadata": {},
   "outputs": [
    {
     "name": "stdout",
     "output_type": "stream",
     "text": [
      "[1, 2, 3, 1, 2, 3, 1, 2, 3]\n",
      "[[1, 2, 3], [1, 2, 3], [1, 2, 3]]\n"
     ]
    }
   ],
   "source": [
    "a = [1, 2, 3]\n",
    "b = a * 3\n",
    "c = [a] * 3\n",
    "\n",
    "print(b)\n",
    "print(c)"
   ]
  },
  {
   "cell_type": "code",
   "execution_count": 12,
   "metadata": {},
   "outputs": [
    {
     "name": "stdout",
     "output_type": "stream",
     "text": [
      "[0, 2, 3, 0, 2, 3, 0, 2, 3]\n",
      "[[0, 2, 3], [0, 2, 3], [0, 2, 3]]\n"
     ]
    }
   ],
   "source": [
    "a = [1, 2, 3]\n",
    "a[0] = 0\n",
    "b = a * 3\n",
    "c = [a] * 3\n",
    "\n",
    "print(b)\n",
    "print(c)"
   ]
  },
  {
   "cell_type": "markdown",
   "metadata": {},
   "source": [
    "//a[0] = 0 를 통해서 a리스트의 0번째 인덱스 요소인 1을 0으로 바꿔주었고\n",
    "\n",
    "a = [0, 2, 3]이라는 새로운 리스트를 *3하는 연산을통해 b와 c를 나타내었다.\n",
    "\n",
    "a 리스트 요소 값을 바꿔서 다시 정의한 것이기 때문에 b와 c값 역시 그에 맞게 변한다."
   ]
  },
  {
   "cell_type": "markdown",
   "metadata": {},
   "source": [
    "//b는 a라는 리스트의 요소들을 3번 반복해서 갖게 되는데\n",
    "\n",
    "c는 a라는 리스트 자체를 3번 반복해서 갖게 된다.\n",
    "\n",
    "따라서 b는 9개의 요소를 갖게 되고 c는 3개의 요소를 갖게 된다."
   ]
  },
  {
   "cell_type": "markdown",
   "metadata": {},
   "source": [
    "### 4) 다음 문자열을 ':'을 기준으로 분리하여 리스트로 만들고 각 문자열의 좌우 공백을 제거하시오 (즉, 문자열 S에서 l을 만들어라)\n",
    "\n",
    "**s = '  first star   :   second star   :    third star  '**\n",
    "\n",
    "**l = ['first star', 'second star', 'third star']**\n",
    "\n",
    "**1) for ~ in 문을 이용한 코드를 작성하시오.**\n",
    "\n",
    "**2) 리스트 내포(list comprehension)를 이용한 코드를 작성하시오.**"
   ]
  },
  {
   "cell_type": "code",
   "execution_count": 13,
   "metadata": {},
   "outputs": [
    {
     "name": "stdout",
     "output_type": "stream",
     "text": [
      "['first star', 'second star', 'third star']\n"
     ]
    }
   ],
   "source": [
    "s = ' first star : second star : third star '\n",
    "I = []\n",
    "\n",
    "for i in s.split(\":\"):\n",
    "    I.append(i.strip())\n",
    "    \n",
    "print(I)"
   ]
  },
  {
   "cell_type": "markdown",
   "metadata": {},
   "source": [
    "//split(\":\")을 이용하여 \":\"을 기준으로 문자열을 나누고\n",
    "\n",
    "그 결과로 생긴 리스트 요소값을 i에 할당하면서\n",
    "\n",
    "strip()을 이용해 공백을 지우고 리스트 l에 요소로 append()를 이용해 추가한다."
   ]
  },
  {
   "cell_type": "code",
   "execution_count": 14,
   "metadata": {},
   "outputs": [
    {
     "name": "stdout",
     "output_type": "stream",
     "text": [
      "['first star', 'second star', 'third star']\n"
     ]
    }
   ],
   "source": [
    "s = ' first star : second star : third star '\n",
    "\n",
    "I = [i.strip() for i in s.split(\":\")]\n",
    "\n",
    "print(I)"
   ]
  },
  {
   "cell_type": "markdown",
   "metadata": {},
   "source": [
    "//split(\":\")을 이용하여 \":\"을 기준으로 문자열을 나누고\n",
    "\n",
    "그 결과로 생긴 리스트 요소값을 i에 할당하면서\n",
    "\n",
    "strip()을 이용해 공백을 지우고 리스트 l에 요소로 추가하였다.\n",
    "\n",
    "이 때 리스트 내포를 이용하여 구현하였다."
   ]
  },
  {
   "cell_type": "markdown",
   "metadata": {},
   "source": [
    "### 5) 다음과 같이 0보다 큰 정수 리스트 변수 list를 인자로 받는 함수 addall(list)와 addallodd(list)를 for ~ in 리터널과 리스트 내포 방식으로 각각 제시하시오.\n",
    "\n",
    "**1) addall(list) 함수 (리스트 내의 모든 정수를 더하는 함수로서 해답으로는 for ~ in 리터럴과 리스트 내포 방식으로 각각 제시하시오.)**\n",
    "\n",
    "    >>> addall([1])\n",
    "**1**\n",
    "\n",
    "    >>> addall([1, 2, 3, 4, 5, 6, 7, 8, 9])\n",
    "**45**\n",
    "\n",
    "**2) addallodd(list) 함수 (리스트내의 모든 홀수를 더하는 함수로서 해답으로는 for ~ in 리터럴과 리스트 내포 방식으로 각각 제시하시오.)**\n",
    "\n",
    "    >>> addallodd([1])\n",
    "**1**\n",
    "\n",
    "    >>> addallodd([1, 2, 3, 4, 5, 6, 7, 8, 9])\n",
    "**25**\n",
    "\n",
    "**[참고 1]: 리스트 내포 방식으로 addall() 및 addallodd()함수를 만들 때엔 리스트 내포에 의해 생성된 리스트 결과에 대해 내장 함수를 사용하는 방식을 고려해보시오 (주의: 리스트 내포 방식의 addall() 및 addallodd() 함수의 몸체는 단 1줄로 작성되어야 한다.)**\n",
    "\n",
    "**[참고 2]: sum() 등의 내장함수 사용 가능함**"
   ]
  },
  {
   "cell_type": "code",
   "execution_count": 15,
   "metadata": {},
   "outputs": [
    {
     "name": "stdout",
     "output_type": "stream",
     "text": [
      "45\n"
     ]
    }
   ],
   "source": [
    "def addall(L):\n",
    "    x = 0\n",
    "    for i in L:\n",
    "        x += i\n",
    "    return x\n",
    "print( addall( [1, 2, 3, 4, 5, 6, 7, 8, 9] ) )"
   ]
  },
  {
   "cell_type": "markdown",
   "metadata": {},
   "source": [
    "//리스트L의 요소값을 하나하나 i로 받아서\n",
    "\n",
    "0으로 초기화 되어있는 x에 모두 더해준 뒤 x를 반환한다."
   ]
  },
  {
   "cell_type": "code",
   "execution_count": 16,
   "metadata": {},
   "outputs": [
    {
     "name": "stdout",
     "output_type": "stream",
     "text": [
      "45\n"
     ]
    }
   ],
   "source": [
    "def addall2(L):\n",
    "    return sum(i for i in L)\n",
    "print( addall2( [1, 2, 3, 4, 5, 6, 7, 8, 9] ) )"
   ]
  },
  {
   "cell_type": "markdown",
   "metadata": {},
   "source": [
    "//리스트L의 요소값을 하나하나 i로 받아서\n",
    "\n",
    "내장함수 sum()을 사용해 더해준 뒤 반환한다.\n",
    "\n",
    "이 때 리스트 내포를 이용하여 구현하였다."
   ]
  },
  {
   "cell_type": "code",
   "execution_count": 17,
   "metadata": {},
   "outputs": [
    {
     "name": "stdout",
     "output_type": "stream",
     "text": [
      "25\n"
     ]
    }
   ],
   "source": [
    "def addallodd(L):\n",
    "    x = 0\n",
    "    for i in L:\n",
    "        if(i%2 == 1):\n",
    "            x += i\n",
    "    return x\n",
    "print( addallodd( [1, 2, 3, 4, 5, 6, 7, 8, 9] ) )"
   ]
  },
  {
   "cell_type": "markdown",
   "metadata": {},
   "source": [
    "//리스트L의 요소값 중 2로 나누었을 때 나머지가 1인 수(홀수)만을\n",
    "\n",
    "0으로 초기화 되어있는 x에 더해준 뒤 x를 반환한다."
   ]
  },
  {
   "cell_type": "code",
   "execution_count": 18,
   "metadata": {},
   "outputs": [
    {
     "name": "stdout",
     "output_type": "stream",
     "text": [
      "25\n"
     ]
    }
   ],
   "source": [
    "def addallodd2(L):\n",
    "    return sum(i for i in L if(i%2 == 1))\n",
    "print( addallodd2( [1, 2, 3, 4, 5, 6, 7, 8, 9] ) )"
   ]
  },
  {
   "cell_type": "markdown",
   "metadata": {},
   "source": [
    "//리스트L의 요소값 중 2로 나누었을 때 나머지가 1인 수(홀수)만을\n",
    "\n",
    "내장함수 sum()을 사용해 더해준 뒤 반환한다.\n",
    "\n",
    "이 때 리스트 내포를 이용하여 구현하였다."
   ]
  },
  {
   "cell_type": "markdown",
   "metadata": {},
   "source": [
    "### 6) 다음 코드를 보고 물음에 답하시오.\n",
    "\n",
    "**L1 = [1, 2, 3]**\n",
    "\n",
    "**L2 = [4, 5, 6]**\n",
    "\n",
    "**d = {'low':L1, 'high':L2}**\n",
    "\n",
    "**e = d**\n",
    "\n",
    "**f = d.copy()**\n",
    "\n",
    "**print(d)**\n",
    "\n",
    "**print(e)**\n",
    "\n",
    "**print(f)**\n",
    "\n",
    "**print()**\n",
    "\n",
    "**d['low'] = [10, 20, 30]**\n",
    "\n",
    "**d['high'][1] = 500**\n",
    "\n",
    "**print(d)**\n",
    "\n",
    "**print(e)**\n",
    "\n",
    "**print(f)**\n",
    "\n",
    "**1) 위 코드의 수행 결과 d와 e는 항상 같은 결과를 출력한다. 그 이유는 무엇인가?**\n",
    "\n",
    "**2) 위 코드의 수행 결과 마지막 f의 내용은 다음과 같다. 이 때 'high' 키의 값 내용 중 500이 출력된 이유와 'low' 키의 값 내용 중 [1, 2, 3]이 출력된 이유를 설명하시오 ([hint]: shallow copy 관점에서 설명하시오.)**\n",
    "\n",
    "**{'high': [4, 500, 6], 'low': [1, 2, 3]}**"
   ]
  },
  {
   "cell_type": "code",
   "execution_count": 19,
   "metadata": {},
   "outputs": [
    {
     "name": "stdout",
     "output_type": "stream",
     "text": [
      "{'low': [1, 2, 3], 'high': [4, 5, 6]}\n",
      "{'low': [1, 2, 3], 'high': [4, 5, 6]}\n",
      "{'low': [1, 2, 3], 'high': [4, 5, 6]}\n",
      "\n",
      "{'low': [10, 20, 30], 'high': [4, 500, 6]}\n",
      "{'low': [10, 20, 30], 'high': [4, 500, 6]}\n",
      "{'low': [1, 2, 3], 'high': [4, 500, 6]}\n"
     ]
    }
   ],
   "source": [
    "L1 = [1, 2, 3]\n",
    "L2 = [4, 5, 6]\n",
    "d = {'low':L1, 'high':L2}\n",
    "e = d\n",
    "f = d.copy()\n",
    "print(d)\n",
    "print(e)\n",
    "print(f)\n",
    "print()\n",
    "d['low'] = [10, 20, 30]\n",
    "d['high'][1] = 500\n",
    "print(d)\n",
    "print(e)\n",
    "print(f)"
   ]
  },
  {
   "cell_type": "markdown",
   "metadata": {},
   "source": [
    "//e = d를 하면 e와 d는 가리키는 키가 같기 때문에 값이 변해도 항상 같은 결과를 출력한다."
   ]
  },
  {
   "cell_type": "markdown",
   "metadata": {},
   "source": [
    "//f = d.copy()를 하면 f와 d는 다른 키(key)에서 같은 값(value)(리스트)를 가리키는데\n",
    "\n",
    "d['low'] = [10, 20, 30] 는 새로운 리스트를 만들기 때문에 d와 e는 이 새로운 리스트를 가리키고\n",
    "\n",
    "f는 원래 리스트를 가리키는 상태를 유지하게 된다. 때문에 다른 값이 출력되고\n",
    "\n",
    "d['high'][1] = 500은 그 리스트의 요소값을 바꾸기 때문에 같이 바뀌게 된다."
   ]
  },
  {
   "cell_type": "markdown",
   "metadata": {},
   "source": [
    "### 7) 사전 d = {'one':1, 'two':2, 'three':3, 'four':4, 'five':5}가 주어졌을 때 다음 요구사항에 맞는 코드를 제시하시오\n",
    "\n",
    "**[참고]: d.keys(), d.values()를 통해 리스트를 얻어낸 후 리스트가 지니고 있는 sort(cmp=None, key=None, reverse=False)함수를 활용하시오.**\n",
    "\n",
    "**1) 키의 알파벳 오름차순 순서대로 튜플 (키, 값)을 차례대로 출력하시오.**\n",
    "\n",
    "**2) 키의 알파벳 내림차순 순서대로 튜플 (키, 값)을 차례대로 출력하시오.**\n",
    "\n",
    "**3) 값의 오름차순 순서대로 튜플 (키, 값)을 차례대로 출력하시오.**\n",
    "\n",
    "**4) 값의 내림차순 순서대로 튜플 (키, 값)을 차례대로 출력하시오.**"
   ]
  },
  {
   "cell_type": "code",
   "execution_count": 20,
   "metadata": {},
   "outputs": [
    {
     "name": "stdout",
     "output_type": "stream",
     "text": [
      "[('five', 5), ('four', 4), ('one', 1), ('three', 3), ('two', 2)]\n",
      "[('two', 2), ('three', 3), ('one', 1), ('four', 4), ('five', 5)]\n"
     ]
    }
   ],
   "source": [
    "d = {'one':1, 'two':2, 'three':3, 'four':4, 'five':5}\n",
    "emptyD = {}\n",
    "\n",
    "KL = list(d.keys())\n",
    "VL = list(d.values())\n",
    "KL.sort()\n",
    "\n",
    "for i in KL:\n",
    "    for j in VL:\n",
    "        if(d[i] == j):\n",
    "            emptyD[i] = j\n",
    "            break\n",
    "TKL = list(emptyD.items())\n",
    "print(TKL)\n",
    "TKL.reverse()\n",
    "print(TKL)"
   ]
  },
  {
   "cell_type": "markdown",
   "metadata": {},
   "source": [
    "//사전 d의 key값을 리스트 형태로 KL(Key List)에 저장하고 sort()를 이용해 정렬한다.\n",
    "\n",
    "사전 d의 value값도 리스트 형태로 VL(Value List)에 저장하고\n",
    "\n",
    "이중 for문을 이용하여 정렬 된 KL에 해당하는 VL을 찾고\n",
    "\n",
    "찾은 KL과 VL을 비어있는 사전(emptyD)에 매칭하여 넣는다.\n",
    "\n",
    "완성된 emptyD는 items()를 사용하여 튜플 형태의 요소를 갖는 리스트로 변환하고\n",
    "\n",
    "TKL(Tuple Key List)에 저장한 후 sort()를 이용하여\n",
    "\n",
    "1)키의 알파벳 오름차순 순서대로 튜플(키, 값)을 차례대로 출력한다.\n",
    "\n",
    "이후 reverse()를 이용하여\n",
    "\n",
    "2)키의 알파벳 내림차순 순서대로 튜플 (키, 값)을 차례대로 출력한다."
   ]
  },
  {
   "cell_type": "code",
   "execution_count": 21,
   "metadata": {},
   "outputs": [
    {
     "name": "stdout",
     "output_type": "stream",
     "text": [
      "[('one', 1), ('two', 2), ('three', 3), ('four', 4), ('five', 5)]\n",
      "[('five', 5), ('four', 4), ('three', 3), ('two', 2), ('one', 1)]\n"
     ]
    }
   ],
   "source": [
    "d = {'one':1, 'two':2, 'three':3, 'four':4, 'five':5}\n",
    "emptyD = {}\n",
    "\n",
    "KL = list(d.keys())\n",
    "VL = list(d.values())\n",
    "VL.sort()\n",
    "\n",
    "for i in VL:\n",
    "    for j in KL:\n",
    "        if(d[j] == i):\n",
    "            emptyD[j] = i\n",
    "            break\n",
    "TVL = list(emptyD.items())\n",
    "print(TVL)\n",
    "TVL.reverse()\n",
    "print(TVL)"
   ]
  },
  {
   "cell_type": "markdown",
   "metadata": {},
   "source": [
    "//사전 d의 key값을 리스트 형태로 KL(Key List)에 저장한다.\n",
    "\n",
    "사전 d의 value값도 리스트 형태로 VL(Value List)에 저장하고  sort()를 이용해 정렬한다.\n",
    "\n",
    "이중 for문을 이용하여 정렬 된 VL에 해당하는 KL을 찾고\n",
    "\n",
    "찾은 KL과 VL을 비어있는 사전(emptyD)에 매칭하여 넣는다.\n",
    "\n",
    "완성된 emptyD는 items()를 사용하여 튜플 형태의 요소를 갖는 리스트로 변환하고\n",
    "\n",
    "TVL(Tuple Value List)에 저장한 후 sort()를 이용하여\n",
    "\n",
    "3)값의 오름차순 순서대로 튜플 (키, 값)을 차례대로 출력한다.\n",
    "\n",
    "이후 reverse()를 이용하여\n",
    "\n",
    "4)값의 내림차순 순서대로 튜플 (키, 값)을 차례대로 출력한다."
   ]
  },
  {
   "cell_type": "markdown",
   "metadata": {},
   "source": [
    "### 8) [ACM-ICPC 문제 1673번]\n",
    "\n",
    "**치킨 쿠폰**\n",
    "\n",
    "**https://www.acmicpc.net/problem/1673**"
   ]
  },
  {
   "cell_type": "markdown",
   "metadata": {},
   "source": [
    "**강민이는 치킨 한 마리를 주문할 수 있는 치킨 쿠폰을 n장 가지고 있다. 이 치킨집에서는 치킨을 한 마리 주문할 때마다 도장을 하나씩 찍어 주는데, 도장을 k개 모으면 치킨 쿠폰 한 장으로 교환할 수 있다.**\n",
    "\n",
    "**강민이가 지금 갖고 있는 치킨 쿠폰으로 치킨을 최대 몇 마리나 먹을 수 있는지 구하여라. 단, 치킨을 주문하기 위해서는 반드시 치킨 쿠폰을 갖고 있어야 한다.**"
   ]
  },
  {
   "cell_type": "code",
   "execution_count": null,
   "metadata": {},
   "outputs": [
    {
     "name": "stdout",
     "output_type": "stream",
     "text": [
      "4 3\n",
      "5\n",
      "10 3\n",
      "14\n",
      "100 5\n",
      "124\n"
     ]
    }
   ],
   "source": [
    "try:\n",
    "    while(1):\n",
    "        L = input().split()\n",
    "        n = int(L[0])\n",
    "        k = int(L[1])\n",
    "        kn = n\n",
    "        \n",
    "        while(k <= n):\n",
    "            x = int(n/k)\n",
    "            n = n%k\n",
    "            kn += x\n",
    "            n += x\n",
    "            \n",
    "        print(kn)\n",
    "        \n",
    "except:\n",
    "    exit()"
   ]
  },
  {
   "cell_type": "markdown",
   "metadata": {},
   "source": [
    "![]( https://github.com/Choi-SeungYong/script/blob/master/%EC%B9%98%ED%82%A8%20%EC%BF%A0%ED%8F%B0.png?raw=true )"
   ]
  },
  {
   "cell_type": "markdown",
   "metadata": {},
   "source": [
    "//입력 받은 값을 split()을 이용하여 공백을 없애고 L에 넣어준다.\n",
    "\n",
    "첫번째 입력받은 n을 kn에 넣어주고\n",
    "\n",
    "두번째 입력받은 k가 n보다 커질 때 까지 반복문을 만든다.\n",
    "\n",
    "x에 n을 k로 나눈 몫을 저장하고 n은 나머지로 재정의한다.\n",
    "\n",
    "x만큼의 쿠폰이 더 생긴 것이므로 n과 kn에 x를 더해주고 kn(몇마리를 먹었는지)을 출력한다."
   ]
  },
  {
   "cell_type": "markdown",
   "metadata": {},
   "source": [
    "### 9) [Incremental Project] 이전 Assignment 2의 마지막 문제는 웹 URL로 지정된 웹페이지를 문자열로 가져와 모든 HTML 태그를 제외한 순수 텍스트를 얻어내고 그 안에 존재하는 단어를 추출하고 단어들의 총 개수를 출력하는 프로그램을 작성하는 것이었다. 이번에는 그 마지막 숙제를 그대로 확장하여 웹 URL로 지정된 웹페이지 내 순수 텍스트 안에 존재하는 각 단어들에 대해 다음 요구사항 대로 출력하는 프로그램을 작성하시오.\n",
    "\n",
    "**요구사항 1. CSS와 Javascript 내용도 모두 제거하시오 (이전 숙제에서 이미 제외하였다면 본 요구사항 무시)**\n",
    "\n",
    "**즉, 아래와 같은 코드는 <style> 및 <script>태그 뿐만 아니라 그 안의 내용 전체를 모두 제거**\n",
    "\n",
    "**<style>**\n",
    "\n",
    "**h1 {**\n",
    "\n",
    "**color: blue;**\n",
    "\n",
    "**}**\n",
    "\n",
    "**</style>**\n",
    "\n",
    "**<script>**\n",
    "\n",
    "**int a = 10;**\n",
    "\n",
    "**...**\n",
    "\n",
    "**</script>**\n",
    "\n",
    "**요구사항 2. 순수 텍스트 안에 존재하는 단어들에 대해 string 모듈을 활용하여 모든 punctuation (구두문자)를 완벽히 제거하시오.**\n",
    "\n",
    "예: ['world!', ':', '+hello+', '~python$$$', '=', 'world'] ---> ['world', 'hello', 'python', 'world']\n",
    "\n",
    "**모든 punctuation을 확인하는 방법은 아래와 같다.**\n",
    "\n",
    "**import string**\n",
    "\n",
    "**print(string.punctuation)**\n",
    "\n",
    "**요구사항 3. 만약 punctuation (구두문자)를 제거한 이후 공백으로 판명되는 단어들은 해당 단어 리스트에서 제거하시오.**\n",
    "\n",
    "예: ['컴퓨터공학부!', '---?', '%지향~', '...'] ---> ['컴퓨터공학부', '', '지향', ''] ---> ['컴퓨터공학부', '지향'] \n",
    "\n",
    "**요구사항 3. 각 단어들의 출현빈도를 사전형태로 저장하여 출력하시오.**\n",
    "\n",
    "**예: ['world', 'hello', 'python', 'world', '컴퓨터공학부', '지향'] ---> {'world': 2, 'hello': 1, 'python': 1, '컴퓨터공학부': 1, '지향': 1} **\n",
    "\n",
    "**요구사항 4. 다음 5개의 사이트에 대한 단어 출현빈도 결과를 출력하시오.**\n",
    "\n",
    "**http://cse.koreatech.ac.kr**\n",
    "\n",
    "**https://www.koreatech.ac.kr**\n",
    "\n",
    "**http://www.naver.com**\n",
    "\n",
    "**http://www.daum.net**\n",
    "\n",
    "**http://www.nytimes.com**"
   ]
  },
  {
   "cell_type": "markdown",
   "metadata": {},
   "source": [
    "#### 소감"
   ]
  },
  {
   "cell_type": "markdown",
   "metadata": {},
   "source": [
    "아직 리스트와 튜플 사전에 대한 이해도가 부족하다고 느꼈다.\n",
    "\n",
    "리스트의 요소로 리스트를 갖거나 리스트의 요소로 튜플을 갖거나 하는 상황에서\n",
    "\n",
    "생각이 자연스럽게 이어지지 못한다는 느낌이 강하게 들었고 때문에 시간이 오래걸렸다.\n",
    "\n",
    "그래도 시험 보기 전에 부족한 부분을 파악할 수 있는 계기가 된 것 같아 다행이다.\n",
    "\n",
    "시간이 부족해 9번 문제를 못 푼 것이 너무 아쉽지만 시험 공부를 하면서 따로 풀어봐야겠다."
   ]
  }
 ],
 "metadata": {
  "kernelspec": {
   "display_name": "Python 3",
   "language": "python",
   "name": "python3"
  },
  "language_info": {
   "codemirror_mode": {
    "name": "ipython",
    "version": 3
   },
   "file_extension": ".py",
   "mimetype": "text/x-python",
   "name": "python",
   "nbconvert_exporter": "python",
   "pygments_lexer": "ipython3",
   "version": "3.6.5"
  }
 },
 "nbformat": 4,
 "nbformat_minor": 2
}
