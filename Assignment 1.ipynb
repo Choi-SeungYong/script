{
 "cells": [
  {
   "cell_type": "markdown",
   "metadata": {},
   "source": [
    "# Assignment 1"
   ]
  },
  {
   "cell_type": "markdown",
   "metadata": {},
   "source": [
    "# 2015136131 / 컴퓨터공학부 / 최승용"
   ]
  },
  {
   "cell_type": "markdown",
   "metadata": {},
   "source": [
    "## [문제]"
   ]
  },
  {
   "cell_type": "markdown",
   "metadata": {},
   "source": [
    "### 1. a=\"Hello Python\" 문자열을 Slicing과 연결 연산자 (+)를 사용하여 \"Python Hello\"로 변경하시오.\n",
    "* **[주의] a 변수 자체에 \"Python Hello\" 문자열이 저장되어야 함**"
   ]
  },
  {
   "cell_type": "code",
   "execution_count": 1,
   "metadata": {},
   "outputs": [
    {
     "name": "stdout",
     "output_type": "stream",
     "text": [
      "Python Hello\n"
     ]
    }
   ],
   "source": [
    "a = \"Hello Python\"\n",
    "a = a[6:] + \" \" + a[:5]\n",
    "print(a)"
   ]
  },
  {
   "cell_type": "markdown",
   "metadata": {},
   "source": [
    "// a = \"Hello Python\"문자열을 Slicing을 통해\n",
    "<ul>a\\[6:\\](인덱스가 6인 P부터 끝까지) 부분과 \" \"(띄어쓰기)부분, a\\[:5\\](처음부터 인덱스가 4인 o까지)부분으로 재구성하고</ul>\n",
    "<ul>연결 연산자 (+)를 사용해 Python Hello 문자열로 출력한다.</ul>"
   ]
  },
  {
   "cell_type": "markdown",
   "metadata": {},
   "source": [
    "### 2. b=\"Hello Python World\" 문자열을 Slicing과 연결 연산자 (+)를 사용하여 \"World Python Hello\"로 변경하시오.\n",
    "* **[주의] b 변수 자체에 \"World Python Hello\" 문자열이 저장되어야 함**"
   ]
  },
  {
   "cell_type": "code",
   "execution_count": 2,
   "metadata": {},
   "outputs": [
    {
     "name": "stdout",
     "output_type": "stream",
     "text": [
      "World Python Hello\n"
     ]
    }
   ],
   "source": [
    "b = \"Hello Python World\"\n",
    "b = b[13:] + \" \" + b[6:12] + \" \" + b[:5]\n",
    "print(b)"
   ]
  },
  {
   "cell_type": "markdown",
   "metadata": {},
   "source": [
    "// b = \"Hello Python World\"문자열을 Slicing을 통해\n",
    "<ul>b\\[13:\\](인덱스가 13인 W부터 끝까지) 부분과 \" \"(띄어쓰기)부분, b\\[6:12\\](인덱스가 6번째인 P부터 11번째인 n까지),</ul>\n",
    "<ul>\" \"(띄어쓰기), b\\[:5\\](처음부터 인덱스가 4인 o까지)부분으로 재구성하고</ul>\n",
    "<ul>연결 연산자 (+)를 사용해 World Python Hello 문자열로 출력한다.</ul>"
   ]
  },
  {
   "cell_type": "markdown",
   "metadata": {},
   "source": [
    "### 3. c=\"Hello\"를 \"olleH\"로 변경하시오\n",
    "* **[주의] c 변수 자체에 \"olleH\" 문자열이 저장되어야 함**"
   ]
  },
  {
   "cell_type": "code",
   "execution_count": 3,
   "metadata": {},
   "outputs": [
    {
     "name": "stdout",
     "output_type": "stream",
     "text": [
      "olleH\n"
     ]
    }
   ],
   "source": [
    "c = \"Hello\"\n",
    "c = c[::-1]\n",
    "print(c)"
   ]
  },
  {
   "cell_type": "markdown",
   "metadata": {},
   "source": [
    "// c = \"Hello\"문자열을 Slicing을 통해 c\\[::-1\\](처음부터 끝까지 역순으로)로 재구성하고 olleH 문자열을 출력한다."
   ]
  },
  {
   "cell_type": "markdown",
   "metadata": {},
   "source": [
    "### 4. s=\"python\"에 대해 다음 문제를 풀어보시오.\n",
    "* **A. s[0], s[0][0], s[0][0][0]은 각각 어떤 값이 나오는지 확인하고 그 이유를 나름대로 설명해 보시오.**"
   ]
  },
  {
   "cell_type": "code",
   "execution_count": 4,
   "metadata": {},
   "outputs": [
    {
     "name": "stdout",
     "output_type": "stream",
     "text": [
      "s[0] = p\n",
      "s[0][0] = p\n",
      "s[0][0][0] = p\n"
     ]
    }
   ],
   "source": [
    "s = \"python\"\n",
    "print(\"s[0] = \" + s[0])\n",
    "print(\"s[0][0] = \" + s[0][0])\n",
    "print(\"s[0][0][0] = \" + s[0][0][0])"
   ]
  },
  {
   "cell_type": "markdown",
   "metadata": {},
   "source": [
    "// s\\[0\\]은 s라는 문자열(python)의 인덱스가 0인 p를 의미한다.\n",
    "<ul>s\\[0\\]\\[0\\]은 s\\[0\\]라는 문자열(p)의 인덱스 0인가 p를 의미한다.</ul>\n",
    "<ul>s\\[0\\]\\[0\\]\\[0\\]은 s\\[0\\]\\[0\\]라는 문자열(p)의 인덱스가 0인 p를 의미한다.</ul>"
   ]
  },
  {
   "cell_type": "markdown",
   "metadata": {},
   "source": [
    "* **B. s[-100], s[100]은 값이 나오는지 에러가 나오는지 확인하고 그 결과에 대한 이유를 나름대로 설명해 보시오.**"
   ]
  },
  {
   "cell_type": "code",
   "execution_count": 5,
   "metadata": {},
   "outputs": [
    {
     "ename": "IndexError",
     "evalue": "string index out of range",
     "output_type": "error",
     "traceback": [
      "\u001b[1;31m---------------------------------------------------------------------------\u001b[0m",
      "\u001b[1;31mIndexError\u001b[0m                                Traceback (most recent call last)",
      "\u001b[1;32m<ipython-input-5-0dfdf43adbb0>\u001b[0m in \u001b[0;36m<module>\u001b[1;34m()\u001b[0m\n\u001b[1;32m----> 1\u001b[1;33m \u001b[0mprint\u001b[0m\u001b[1;33m(\u001b[0m\u001b[1;34m\"s[-100] = \"\u001b[0m \u001b[1;33m+\u001b[0m \u001b[0ms\u001b[0m\u001b[1;33m[\u001b[0m\u001b[1;33m-\u001b[0m\u001b[1;36m100\u001b[0m\u001b[1;33m]\u001b[0m\u001b[1;33m)\u001b[0m\u001b[1;33m\u001b[0m\u001b[0m\n\u001b[0m\u001b[0;32m      2\u001b[0m \u001b[0mprint\u001b[0m\u001b[1;33m(\u001b[0m\u001b[1;34m\"s[100] = \"\u001b[0m \u001b[1;33m+\u001b[0m \u001b[0ms\u001b[0m\u001b[1;33m[\u001b[0m\u001b[1;36m100\u001b[0m\u001b[1;33m]\u001b[0m\u001b[1;33m)\u001b[0m\u001b[1;33m\u001b[0m\u001b[0m\n",
      "\u001b[1;31mIndexError\u001b[0m: string index out of range"
     ]
    }
   ],
   "source": [
    "print(\"s[-100] = \" + s[-100])\n",
    "print(\"s[100] = \" + s[100])"
   ]
  },
  {
   "cell_type": "markdown",
   "metadata": {},
   "source": [
    "// s라는 문자열(python)은 인덱스가 -6부터 5까지 밖에 없기 때문에 인덱스가 -100이나 100인 문자를 호출할 경우 다음과 같이 에러가 난다.  "
   ]
  },
  {
   "cell_type": "markdown",
   "metadata": {},
   "source": [
    "* **C. s[-100, 100]은 값이 나오는지 에러가 나오는지 확인하고 그 결과에 대한 이유를 나름대로 설명해 보시오.**"
   ]
  },
  {
   "cell_type": "code",
   "execution_count": 6,
   "metadata": {},
   "outputs": [
    {
     "ename": "TypeError",
     "evalue": "string indices must be integers",
     "output_type": "error",
     "traceback": [
      "\u001b[1;31m---------------------------------------------------------------------------\u001b[0m",
      "\u001b[1;31mTypeError\u001b[0m                                 Traceback (most recent call last)",
      "\u001b[1;32m<ipython-input-6-c544561bc14e>\u001b[0m in \u001b[0;36m<module>\u001b[1;34m()\u001b[0m\n\u001b[1;32m----> 1\u001b[1;33m \u001b[0mprint\u001b[0m\u001b[1;33m(\u001b[0m\u001b[1;34m\"s[-100, 100] = \"\u001b[0m \u001b[1;33m+\u001b[0m \u001b[0ms\u001b[0m\u001b[1;33m[\u001b[0m\u001b[1;33m-\u001b[0m\u001b[1;36m100\u001b[0m\u001b[1;33m,\u001b[0m \u001b[1;36m100\u001b[0m\u001b[1;33m]\u001b[0m\u001b[1;33m)\u001b[0m\u001b[1;33m\u001b[0m\u001b[0m\n\u001b[0m",
      "\u001b[1;31mTypeError\u001b[0m: string indices must be integers"
     ]
    }
   ],
   "source": [
    "print(\"s[-100, 100] = \" + s[-100, 100])"
   ]
  },
  {
   "cell_type": "markdown",
   "metadata": {},
   "source": [
    "// 인덱스는 숫자여야 하는데 ','이라는 문자가 들어가서 인덱싱에서 에러가 났다."
   ]
  },
  {
   "cell_type": "markdown",
   "metadata": {},
   "source": [
    "* **D. s[1:-1]의 결과를 확인하고 그 결과에 대한 이유를 정확하게 설명하시오.**"
   ]
  },
  {
   "cell_type": "code",
   "execution_count": 7,
   "metadata": {},
   "outputs": [
    {
     "name": "stdout",
     "output_type": "stream",
     "text": [
      "s[1:-1] = ytho\n"
     ]
    }
   ],
   "source": [
    "print(\"s[1:-1] = \" + s[1:-1])"
   ]
  },
  {
   "cell_type": "markdown",
   "metadata": {},
   "source": [
    "// s = \"python\"문자열을 Slicing을 통해 s\\[1:-1\\](인덱스가 1인 y부터 역순으로 -2인 o까지)를 출력한다."
   ]
  },
  {
   "cell_type": "markdown",
   "metadata": {},
   "source": [
    "* **E. s[3:-3]의 결과를 확인하고 그 결과에 대한 이유를 정확하게 설명하시오.**"
   ]
  },
  {
   "cell_type": "code",
   "execution_count": 8,
   "metadata": {},
   "outputs": [
    {
     "name": "stdout",
     "output_type": "stream",
     "text": [
      "s[3:-3] = \n"
     ]
    }
   ],
   "source": [
    "print(\"s[3:-3] = \" + s[3:-3])"
   ]
  },
  {
   "cell_type": "markdown",
   "metadata": {},
   "source": [
    "// s = \"python\"문자열을 Slicing을 통해 s\\[3:-3\\](인덱스가 3인 h부터 역순으로 -4인 t까지)를 출력한다. 하지만 h가 t보다 뒤이므로 공백이 출력된다."
   ]
  },
  {
   "cell_type": "markdown",
   "metadata": {},
   "source": [
    "### 5. for문을 활용하여 1부터 100사이의 홀수를 출력하시오."
   ]
  },
  {
   "cell_type": "code",
   "execution_count": 9,
   "metadata": {},
   "outputs": [
    {
     "name": "stdout",
     "output_type": "stream",
     "text": [
      "1 3 5 7 9 11 13 15 17 19 21 23 25 27 29 31 33 35 37 39 41 43 45 47 49 51 53 55 57 59 61 63 65 67 69 71 73 75 77 79 81 83 85 87 89 91 93 95 97 99 "
     ]
    }
   ],
   "source": [
    "for i in range(1,100,2):\n",
    "    print(i, end = \" \")"
   ]
  },
  {
   "cell_type": "markdown",
   "metadata": {},
   "source": [
    "// for함수에서 range함수를 이용하여 i에 1부터 99까지 2씩 증가시키며 홀수만 대입하고 print함수를 이용해 이를 출력한다."
   ]
  },
  {
   "cell_type": "markdown",
   "metadata": {},
   "source": [
    "### 6. while문을 활용하여 1부터 100사이의 짝수의 합을 계산하여 출력하시오."
   ]
  },
  {
   "cell_type": "code",
   "execution_count": 10,
   "metadata": {},
   "outputs": [
    {
     "name": "stdout",
     "output_type": "stream",
     "text": [
      "2450\n"
     ]
    }
   ],
   "source": [
    "Sum = 0\n",
    "i = 1\n",
    "while i < 100:\n",
    "    if i%2 == 0:\n",
    "        Sum += i\n",
    "    i += 1\n",
    "print(Sum)"
   ]
  },
  {
   "cell_type": "markdown",
   "metadata": {},
   "source": [
    "// while함수와 if함수를 이용하여 i가 1부터 100까지 1씩 증가하는 도중 2로 나누었을 때 나머지가 0이면(짝수이면)\n",
    "<ul>그 수를 Sum에 차례로 더해준 뒤 print함수를 이용해 Sum을 출력한다.</ul>"
   ]
  },
  {
   "cell_type": "markdown",
   "metadata": {},
   "source": [
    "### 7. 사용자로 부터 임의의 정수를 입력받고, 해당 숫자를 역순으로 출력하는 프로그램을 작성하시오.\n",
    "* **[실행 예]**\n",
    "\n",
    "<ul>**정수를 입력하세요: 3125**</ul>\n",
    "<ul>**숫자 역순은 5213 입니다.**</ul>\n"
   ]
  },
  {
   "cell_type": "code",
   "execution_count": 11,
   "metadata": {},
   "outputs": [
    {
     "name": "stdout",
     "output_type": "stream",
     "text": [
      "정수를 입력하세요 : 5213\n",
      "숫자 역순은 3125 입니다.\n"
     ]
    }
   ],
   "source": [
    "print(\"정수를 입력하세요 :\", end  = \" \")\n",
    "x = int(input())\n",
    "sx = str(x)\n",
    "x = int(sx[::-1])\n",
    "print(\"숫자 역순은\", end = \" \")\n",
    "print(x, end = \" \")\n",
    "print(\"입니다.\")"
   ]
  },
  {
   "cell_type": "markdown",
   "metadata": {},
   "source": [
    "// input함수를 이용해 입력받은 문자열을 int로 형변환 하여 정수로 x에 대입하고 sx에 str로 형변환 하여 대입한다.\n",
    "<ul>슬라이싱을 이용하여 문자열을 역순으로 뒤집고 다시 int로 형변환 하여 정수로 x에 대입한다. 이후 x를 출력한다.</ul>\n",
    "<ul>(int와 str 형번환을 하는 이유는 정수를 입력받고, 숫자를 역순으로 출력하라는 문제의 조건을 만족하기 위해서임)</ul>"
   ]
  },
  {
   "cell_type": "markdown",
   "metadata": {},
   "source": [
    "### 8. 사용자로 부터 정수를 입력받아서 1부터 그 사이에 존재하는 소수 (Prime number)를 출력하는 파이썬 프로그램을 작성하시오."
   ]
  },
  {
   "cell_type": "code",
   "execution_count": 12,
   "metadata": {},
   "outputs": [
    {
     "name": "stdout",
     "output_type": "stream",
     "text": [
      "정수를 입력하세요 : 13\n",
      "1부터 13사이에 존재하는 소수는 2 3 5 7 11 입니다.\n"
     ]
    }
   ],
   "source": [
    "print(\"정수를 입력하세요 :\", end  = \" \")\n",
    "x = int(input())\n",
    "print(\"1부터\", end = \" \")\n",
    "print(x, end = \"\")\n",
    "print(\"사이에 존재하는 소수는\", end = \" \")\n",
    "for y in range(2,x):\n",
    "    for z in range(2,y+1):\n",
    "        if (y % z) == 0:\n",
    "            if y != z:\n",
    "                break\n",
    "            print(z, end = \" \")\n",
    "print(\"입니다.\")"
   ]
  },
  {
   "cell_type": "markdown",
   "metadata": {},
   "source": [
    "// int 형으로 수를 입력받아 x에 대입한다.\n",
    "<ul>2부터 x-1까지 y를 증가시키면서</ul>\n",
    "<ul>y를 z(2부터 y까지 증가하는 수)로 나눈다.</ul>\n",
    "<ul>나머지가 0일 때(나누어 떨어질 때) y와 z가 같다면 그 z(혹은 y)는 소수이므로 출력하고</ul>\n",
    "<ul>나머지가 0이 아니라면(나누어 떨어지지 않으면) 1과 자기 자신 이외의 약수를 갖기 때문에 소수가 아니므로 break하여 z를 출력하지 않고 증가시킨다.</ul>"
   ]
  },
  {
   "cell_type": "markdown",
   "metadata": {},
   "source": [
    "### 9. [ACM-ICPC 문제 2441번]\n",
    "* **별찍기-4**\n",
    "<ul> https://www.acmicpc.net/problem/2441 </ul>"
   ]
  },
  {
   "cell_type": "markdown",
   "metadata": {},
   "source": [
    "**첫째 줄에는 별 N개, 둘째 줄에는 별 N-1개, ..., N번째 줄에는 별 1개를 찍는 문제**\n",
    "\n",
    "**하지만, 오른쪽을 기준으로 정렬한 별 (예제 참고)을 출력하시오.**"
   ]
  },
  {
   "cell_type": "code",
   "execution_count": 13,
   "metadata": {},
   "outputs": [
    {
     "name": "stdout",
     "output_type": "stream",
     "text": [
      "5\n",
      "*****\n",
      " ****\n",
      "  ***\n",
      "   **\n",
      "    *\n"
     ]
    }
   ],
   "source": [
    "x = int(input())\n",
    "for y in range(0, x):\n",
    "    for i in range(0, y):\n",
    "        print(\" \", end = \"\")\n",
    "    for j in range(y, x):\n",
    "        print(\"*\", end = \"\")\n",
    "    print(\"\")"
   ]
  },
  {
   "cell_type": "markdown",
   "metadata": {},
   "source": [
    "![image]( https://github.com/Choi-SeungYong/script/blob/master/%EB%B3%84%20%EA%B7%B8%EB%A6%AC%EA%B8%B0.png?raw=true )"
   ]
  },
  {
   "cell_type": "markdown",
   "metadata": {},
   "source": [
    "// int형으로 수를 입력받아 x에 대입한다.\n",
    "<ul>y를 0부터 x까지 증가시키는 for문(세로가 총 x줄) 안에서</ul>\n",
    "<ul>y만큼 공백을 출력하고</ul>\n",
    "<ul>나머지만큼(x-y만큼) 별을 출력한다.</ul>"
   ]
  },
  {
   "cell_type": "markdown",
   "metadata": {},
   "source": [
    "### 10. [ACM-ICPC 문제 11721번]\n",
    "* **열 개씩 끊어 출력하기**\n",
    "<ul> https://www.acmicpc.net/problem/11721 </ul>"
   ]
  },
  {
   "cell_type": "markdown",
   "metadata": {},
   "source": [
    "**알파벳 소문자와 대문자로만 이루어진 길이가 N인 단어가 주어진다.**\n",
    "\n",
    "**한 줄에 10글자씩 끊어서 출력하는 프로그램을 작성하시오.**"
   ]
  },
  {
   "cell_type": "code",
   "execution_count": 14,
   "metadata": {},
   "outputs": [
    {
     "name": "stdout",
     "output_type": "stream",
     "text": [
      "BaekjoonOnlineJudge\n",
      "BaekjoonOn\n",
      "lineJudge\n"
     ]
    }
   ],
   "source": [
    "s = input()\n",
    "for i in range(0, len(s)//10+1):\n",
    "    print(s[(i*10):(i+1)*10])"
   ]
  },
  {
   "cell_type": "markdown",
   "metadata": {},
   "source": [
    "![image]( https://github.com/Choi-SeungYong/script/blob/master/%EC%97%B4%20%EA%B0%9C%EC%94%A9%20%EC%B6%9C%EB%A0%A5%ED%95%98%EA%B8%B0.png?raw=true )"
   ]
  },
  {
   "cell_type": "markdown",
   "metadata": {},
   "source": [
    "// 문자열 s를 입력받고\n",
    "<ul>0부터 len(s)//10(문자열 s의 길이를 10으로 나눈 몫)까지 반복하는 for문(세로로 총 len(s)//10+1줄)안에서</ul>\n",
    "<ul>Slicing을 이용하여 10글자씩(인덱스 0~9, 10~19) 끊어서 출력한다.</ul>"
   ]
  },
  {
   "cell_type": "markdown",
   "metadata": {},
   "source": [
    "### 11. [ACM-ICPC 문제 2839번]\n",
    "* **설탕배달**\n",
    "<ul> https://www.acmicpc.net/problem/2839</ul>"
   ]
  },
  {
   "cell_type": "markdown",
   "metadata": {},
   "source": [
    "**상근이는 요즘 설탕공장에서 설탕을 배달하고 있다. 상근이는 지금 사탕가게에 설탕을 정확하게 N킬로그램을 배달해야 한다. 설탕공장에서 만드는 설탕은 봉지에 담겨져 있다. 봉지는 3킬로그램 봉지와 5킬로그램 봉지가 있다.**\n",
    "\n",
    "**상근이는 귀찮기 때문에, 최대한 적은 봉지를 들고 가려고 한다. 예를 들어, 18킬로그램 설탕을 배달해야 할 때, 3킬로그램 봉지 6개를 가져가도 되지만, 5킬로그램 3개와 3킬로그램 1개를 배달하면, 더 적은 개수의 봉지를 배달할 수 있다.**\n",
    "\n",
    "**상근이가 설탕을 정확하게 N킬로그램 배달해야 할 때, 봉지 몇 개를 가져가면 되는지 그 수를 구하는 프로그램을 작성하시오.**"
   ]
  },
  {
   "cell_type": "code",
   "execution_count": 15,
   "metadata": {},
   "outputs": [
    {
     "name": "stdout",
     "output_type": "stream",
     "text": [
      "11\n",
      "3\n"
     ]
    }
   ],
   "source": [
    "n = int(input())\n",
    "i = n // 5\n",
    "while True:\n",
    "    j = (n-5*i)//3\n",
    "    if (n-5*i)%3 == 0:\n",
    "        print(i+j)\n",
    "        break\n",
    "    i -= 1\n",
    "    if i == -1:\n",
    "        print(-1)\n",
    "        break"
   ]
  },
  {
   "cell_type": "markdown",
   "metadata": {},
   "source": [
    "![image]( https://github.com/Choi-SeungYong/script/blob/master/%EC%84%A4%ED%83%95%20%EB%B0%B0%EB%8B%AC.png?raw=true )"
   ]
  },
  {
   "cell_type": "markdown",
   "metadata": {},
   "source": [
    "// int형으로 수를 입력받아 n에 저장한다.\n",
    "<ul>n을 5로 나눈 몫을 i라고 하고</ul>\n",
    "<ul>나머지를 3으로 나눈 몫을 j라고 할 때</ul>\n",
    "<ul>나머지(n을 5로 나눈 나머지)가 3으로 나누어 떨어지면(나머지가 0이면)</ul>\n",
    "<ul>i+j(5kg짜리 i봉지, 3kg짜리 j봉지임)를 출력한다.</ul>\n",
    "<ul>나머지(n을 5로 나눈 나머지)가 3으로 나누어 떨어지지 않으면 i를 감소시키며 반복한다.</ul>\n",
    "<ul>i가 -1이 되는 경우(n이 5와 3으로 나누어 떨어지지 않는 경우) -1을 출력한다.</ul>"
   ]
  },
  {
   "cell_type": "markdown",
   "metadata": {},
   "source": [
    "#### 소감"
   ]
  },
  {
   "cell_type": "markdown",
   "metadata": {},
   "source": [
    "<ul>이번 학기 여러가지 언어를 같이 배우면서 각각 언어의 문법들에 대해 헷갈렸는데</ul>\n",
    "<ul>과제를 해결하면서 파이썬이라는 언어의 문법에 대해 제대로 알게 되었고</ul>\n",
    "<ul>기존에 C로 코딩해봤던 문제도 있고 새로 풀어본 문제도 있었는데</ul>\n",
    "<ul>약간씩 차이가 있을 수 있다는 것을 느꼈다.</ul>\n",
    "<ul>새로운 방식으로 과제를 제출하면서 url에 관해서 새로 알게된 것도 많았고</ul>\n",
    "<ul>한줄씩 결과를 알 수 있어서 파이썬으로 코딩하면 수정하기 더 편리하다고 느꼈다.</ul>"
   ]
  }
 ],
 "metadata": {
  "kernelspec": {
   "display_name": "Python 3",
   "language": "python",
   "name": "python3"
  },
  "language_info": {
   "codemirror_mode": {
    "name": "ipython",
    "version": 3
   },
   "file_extension": ".py",
   "mimetype": "text/x-python",
   "name": "python",
   "nbconvert_exporter": "python",
   "pygments_lexer": "ipython3",
   "version": "3.6.5"
  }
 },
 "nbformat": 4,
 "nbformat_minor": 2
}
